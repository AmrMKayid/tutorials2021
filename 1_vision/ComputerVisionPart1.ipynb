{
  "nbformat": 4,
  "nbformat_minor": 0,
  "metadata": {
    "accelerator": "GPU",
    "colab": {
      "name": "ComputerVisionPart1_start.ipynb",
      "provenance": [],
      "collapsed_sections": []
    },
    "kernelspec": {
      "display_name": "Python 3",
      "language": "python",
      "name": "python3"
    },
    "language_info": {
      "codemirror_mode": {
        "name": "ipython",
        "version": 3
      },
      "file_extension": ".py",
      "mimetype": "text/x-python",
      "name": "python",
      "nbconvert_exporter": "python",
      "pygments_lexer": "ipython3",
      "version": "3.8.5"
    },
    "widgets": {
      "application/vnd.jupyter.widget-state+json": {
        "8b92640dbf054e0d902192041a033974": {
          "model_module": "@jupyter-widgets/controls",
          "model_name": "HBoxModel",
          "state": {
            "_view_name": "HBoxView",
            "_dom_classes": [],
            "_model_name": "HBoxModel",
            "_view_module": "@jupyter-widgets/controls",
            "_model_module_version": "1.5.0",
            "_view_count": null,
            "_view_module_version": "1.5.0",
            "box_style": "",
            "layout": "IPY_MODEL_e8a4c38d7c0d415ab97966a1fff2f2dc",
            "_model_module": "@jupyter-widgets/controls",
            "children": [
              "IPY_MODEL_2acfedd077914ebe81a2eb145ce05b45",
              "IPY_MODEL_ef318437ff8649f183b82ddaade32f00"
            ]
          }
        },
        "e8a4c38d7c0d415ab97966a1fff2f2dc": {
          "model_module": "@jupyter-widgets/base",
          "model_name": "LayoutModel",
          "state": {
            "_view_name": "LayoutView",
            "grid_template_rows": null,
            "right": null,
            "justify_content": null,
            "_view_module": "@jupyter-widgets/base",
            "overflow": null,
            "_model_module_version": "1.2.0",
            "_view_count": null,
            "flex_flow": null,
            "width": null,
            "min_width": null,
            "border": null,
            "align_items": null,
            "bottom": null,
            "_model_module": "@jupyter-widgets/base",
            "top": null,
            "grid_column": null,
            "overflow_y": null,
            "overflow_x": null,
            "grid_auto_flow": null,
            "grid_area": null,
            "grid_template_columns": null,
            "flex": null,
            "_model_name": "LayoutModel",
            "justify_items": null,
            "grid_row": null,
            "max_height": null,
            "align_content": null,
            "visibility": null,
            "align_self": null,
            "height": null,
            "min_height": null,
            "padding": null,
            "grid_auto_rows": null,
            "grid_gap": null,
            "max_width": null,
            "order": null,
            "_view_module_version": "1.2.0",
            "grid_template_areas": null,
            "object_position": null,
            "object_fit": null,
            "grid_auto_columns": null,
            "margin": null,
            "display": null,
            "left": null
          }
        },
        "2acfedd077914ebe81a2eb145ce05b45": {
          "model_module": "@jupyter-widgets/controls",
          "model_name": "FloatProgressModel",
          "state": {
            "_view_name": "ProgressView",
            "style": "IPY_MODEL_56f1dfb0956a46de9dce6920f10cad1b",
            "_dom_classes": [],
            "description": "Dl Completed...: 100%",
            "_model_name": "FloatProgressModel",
            "bar_style": "success",
            "max": 4,
            "_view_module": "@jupyter-widgets/controls",
            "_model_module_version": "1.5.0",
            "value": 4,
            "_view_count": null,
            "_view_module_version": "1.5.0",
            "orientation": "horizontal",
            "min": 0,
            "description_tooltip": null,
            "_model_module": "@jupyter-widgets/controls",
            "layout": "IPY_MODEL_732c094501e24c2bbc93a3a816b21b37"
          }
        },
        "ef318437ff8649f183b82ddaade32f00": {
          "model_module": "@jupyter-widgets/controls",
          "model_name": "HTMLModel",
          "state": {
            "_view_name": "HTMLView",
            "style": "IPY_MODEL_8a6f080ed8144550883a54963f73ee75",
            "_dom_classes": [],
            "description": "",
            "_model_name": "HTMLModel",
            "placeholder": "​",
            "_view_module": "@jupyter-widgets/controls",
            "_model_module_version": "1.5.0",
            "value": " 4/4 [00:00&lt;00:00,  8.26 file/s]",
            "_view_count": null,
            "_view_module_version": "1.5.0",
            "description_tooltip": null,
            "_model_module": "@jupyter-widgets/controls",
            "layout": "IPY_MODEL_c5d6c887da8b44cda0e1a3badb29e9de"
          }
        },
        "56f1dfb0956a46de9dce6920f10cad1b": {
          "model_module": "@jupyter-widgets/controls",
          "model_name": "ProgressStyleModel",
          "state": {
            "_view_name": "StyleView",
            "_model_name": "ProgressStyleModel",
            "description_width": "initial",
            "_view_module": "@jupyter-widgets/base",
            "_model_module_version": "1.5.0",
            "_view_count": null,
            "_view_module_version": "1.2.0",
            "bar_color": null,
            "_model_module": "@jupyter-widgets/controls"
          }
        },
        "732c094501e24c2bbc93a3a816b21b37": {
          "model_module": "@jupyter-widgets/base",
          "model_name": "LayoutModel",
          "state": {
            "_view_name": "LayoutView",
            "grid_template_rows": null,
            "right": null,
            "justify_content": null,
            "_view_module": "@jupyter-widgets/base",
            "overflow": null,
            "_model_module_version": "1.2.0",
            "_view_count": null,
            "flex_flow": null,
            "width": null,
            "min_width": null,
            "border": null,
            "align_items": null,
            "bottom": null,
            "_model_module": "@jupyter-widgets/base",
            "top": null,
            "grid_column": null,
            "overflow_y": null,
            "overflow_x": null,
            "grid_auto_flow": null,
            "grid_area": null,
            "grid_template_columns": null,
            "flex": null,
            "_model_name": "LayoutModel",
            "justify_items": null,
            "grid_row": null,
            "max_height": null,
            "align_content": null,
            "visibility": null,
            "align_self": null,
            "height": null,
            "min_height": null,
            "padding": null,
            "grid_auto_rows": null,
            "grid_gap": null,
            "max_width": null,
            "order": null,
            "_view_module_version": "1.2.0",
            "grid_template_areas": null,
            "object_position": null,
            "object_fit": null,
            "grid_auto_columns": null,
            "margin": null,
            "display": null,
            "left": null
          }
        },
        "8a6f080ed8144550883a54963f73ee75": {
          "model_module": "@jupyter-widgets/controls",
          "model_name": "DescriptionStyleModel",
          "state": {
            "_view_name": "StyleView",
            "_model_name": "DescriptionStyleModel",
            "description_width": "",
            "_view_module": "@jupyter-widgets/base",
            "_model_module_version": "1.5.0",
            "_view_count": null,
            "_view_module_version": "1.2.0",
            "_model_module": "@jupyter-widgets/controls"
          }
        },
        "c5d6c887da8b44cda0e1a3badb29e9de": {
          "model_module": "@jupyter-widgets/base",
          "model_name": "LayoutModel",
          "state": {
            "_view_name": "LayoutView",
            "grid_template_rows": null,
            "right": null,
            "justify_content": null,
            "_view_module": "@jupyter-widgets/base",
            "overflow": null,
            "_model_module_version": "1.2.0",
            "_view_count": null,
            "flex_flow": null,
            "width": null,
            "min_width": null,
            "border": null,
            "align_items": null,
            "bottom": null,
            "_model_module": "@jupyter-widgets/base",
            "top": null,
            "grid_column": null,
            "overflow_y": null,
            "overflow_x": null,
            "grid_auto_flow": null,
            "grid_area": null,
            "grid_template_columns": null,
            "flex": null,
            "_model_name": "LayoutModel",
            "justify_items": null,
            "grid_row": null,
            "max_height": null,
            "align_content": null,
            "visibility": null,
            "align_self": null,
            "height": null,
            "min_height": null,
            "padding": null,
            "grid_auto_rows": null,
            "grid_gap": null,
            "max_width": null,
            "order": null,
            "_view_module_version": "1.2.0",
            "grid_template_areas": null,
            "object_position": null,
            "object_fit": null,
            "grid_auto_columns": null,
            "margin": null,
            "display": null,
            "left": null
          }
        }
      }
    }
  },
  "cells": [
    {
      "cell_type": "markdown",
      "metadata": {
        "id": "Xi1dtiTtK1Ov"
      },
      "source": [
        "## M2L: ConvNets and Computer Vision Tutorial (PART I)\n",
        "\n",
        "### Supervised classification, overfitting and inductive biases in convnets, and how to improve models through self-supervision\n",
        "### by Marco Buzzelli, Luigi Celona, Flavio Piccoli, and Simone Zini\n",
        "\n",
        "* Exercise 1: Implement and train a ResNetSE-18 classifier using supervised learning; enable/disable batch norm updates to see the effect.\n",
        "* Exercise 2: Inductive biases in convnets; comparison with MLP.\n",
        "* Exercise 3: Overfitting and regularization using weight decay.\n",
        "* Exercise 4: Enable self-supervised learning using data augmentation.\n",
        "\n",
        "**Questions**: \n",
        "1. What happens with resnet's performance when batch norm statistics are not updated? How about MLP? Why is one affected less than the other?\n",
        "2. What is resnet's train loss on permuted MNIST? How about the test accuracy? How is the MLP affected by the permutation?\n",
        "3. What other types of regularization could you use to avoid overfitting?\n",
        "4. In what applications do you expect the auxiliary self-supervised task to help more?"
      ]
    },
    {
      "cell_type": "markdown",
      "metadata": {
        "id": "EmGVZkJUkmpS"
      },
      "source": [
        "## Import JAX, Haiku, and other libraries"
      ]
    },
    {
      "cell_type": "code",
      "metadata": {
        "id": "Ehm8gXYs18DX"
      },
      "source": [
        "!pip install git+https://github.com/deepmind/dm-haiku &> /dev/null\n",
        "!pip install -U tensorboard &> /dev/null\n",
        "!pip install -q dm-tree &> /dev/null\n",
        "!pip install git+https://github.com/deepmind/optax.git &> /dev/null"
      ],
      "execution_count": 1,
      "outputs": []
    },
    {
      "cell_type": "code",
      "metadata": {
        "id": "9Ho_PioVRL_o",
        "outputId": "660b2c03-de1d-4229-836b-60dc87efa66c",
        "colab": {
          "base_uri": "https://localhost:8080/"
        }
      },
      "source": [
        "import os\n",
        "import tree\n",
        "import math\n",
        "import time\n",
        "import pickle\n",
        "import warnings\n",
        "\n",
        "# Dataset libraries\n",
        "import tensorflow as tf\n",
        "import tensorflow_datasets as tfds\n",
        "\n",
        "import haiku as hk\n",
        "import jax\n",
        "import optax\n",
        "import jax.numpy as jnp\n",
        "\n",
        "import numpy as np\n",
        "\n",
        "# Plotting library.\n",
        "from matplotlib import pyplot as plt\n",
        "from IPython import display\n",
        "\n",
        "#@title Imports\n",
        "from typing import Iterable, Mapping, Tuple, \\\n",
        "    Generator, Sequence, Optional, Union\n",
        "\n",
        "# Don't forget to select GPU runtime environment in Runtime -> Change runtime type\n",
        "device_name = tf.test.gpu_device_name()\n",
        "if device_name != '/device:GPU:0':\n",
        "    raise SystemError('GPU device not found')\n",
        "print('Found GPU at: {}'.format(device_name))\n",
        "\n",
        "warnings.filterwarnings('ignore')\n",
        "\n",
        "# Define useful types\n",
        "Batch = Mapping[np.ndarray, np.ndarray]\n",
        "OptState = Tuple[optax.TraceState,\n",
        "                 optax.ScaleByScheduleState,\n",
        "                 optax.ScaleState]"
      ],
      "execution_count": 2,
      "outputs": [
        {
          "output_type": "stream",
          "text": [
            "Found GPU at: /device:GPU:0\n"
          ],
          "name": "stdout"
        }
      ]
    },
    {
      "cell_type": "markdown",
      "metadata": {
        "id": "1P65vVFkUbTu"
      },
      "source": [
        "## Download dataset to be used for training and testing\n",
        "* MNIST images\n",
        "\n",
        "* 70000 28x28 grayscale images in 10 classes: digits from 0 to 9\n",
        "\n",
        "* train: 60000; test: 10000"
      ]
    },
    {
      "cell_type": "code",
      "metadata": {
        "id": "LEEkhc5KRa8t",
        "outputId": "1c977a04-c8f6-4c10-d2af-b53cf43dfc59",
        "colab": {
          "base_uri": "https://localhost:8080/",
          "height": 200,
          "referenced_widgets": [
            "8b92640dbf054e0d902192041a033974",
            "e8a4c38d7c0d415ab97966a1fff2f2dc",
            "2acfedd077914ebe81a2eb145ce05b45",
            "ef318437ff8649f183b82ddaade32f00",
            "56f1dfb0956a46de9dce6920f10cad1b",
            "732c094501e24c2bbc93a3a816b21b37",
            "8a6f080ed8144550883a54963f73ee75",
            "c5d6c887da8b44cda0e1a3badb29e9de"
          ]
        }
      },
      "source": [
        "# Dataset constants for MNIST dataset:\n",
        "# it contains low-res natural images (28x28x1) belonging to 10 classes.\n",
        "dataset_name = 'mnist'\n",
        "class_mnist = [u'0', u'1', u'2', u'3', u'4', u'5', u'6', u'7', u'8', u'9']\n",
        "train_split = 'train'\n",
        "eval_split = 'test'\n",
        "num_examples = {train_split: 60000,\n",
        "                eval_split: 10000}\n",
        "num_classes = 10\n",
        "\n",
        "train_ds = tfds.load(dataset_name, split=train_split)\n",
        "test_ds = tfds.load(dataset_name, split=eval_split)"
      ],
      "execution_count": 3,
      "outputs": [
        {
          "output_type": "stream",
          "text": [
            "\u001b[1mDownloading and preparing dataset mnist/3.0.1 (download: 11.06 MiB, generated: 21.00 MiB, total: 32.06 MiB) to /root/tensorflow_datasets/mnist/3.0.1...\u001b[0m\n"
          ],
          "name": "stdout"
        },
        {
          "output_type": "stream",
          "text": [
            "WARNING:absl:Dataset mnist is hosted on GCS. It will automatically be downloaded to your\n",
            "local data directory. If you'd instead prefer to read directly from our public\n",
            "GCS bucket (recommended if you're running on GCP), you can instead pass\n",
            "`try_gcs=True` to `tfds.load` or set `data_dir=gs://tfds-data/datasets`.\n",
            "\n"
          ],
          "name": "stderr"
        },
        {
          "output_type": "display_data",
          "data": {
            "application/vnd.jupyter.widget-view+json": {
              "model_id": "8b92640dbf054e0d902192041a033974",
              "version_minor": 0,
              "version_major": 2
            },
            "text/plain": [
              "HBox(children=(FloatProgress(value=0.0, description='Dl Completed...', max=4.0, style=ProgressStyle(descriptio…"
            ]
          },
          "metadata": {
            "tags": []
          }
        },
        {
          "output_type": "stream",
          "text": [
            "\n",
            "\n",
            "\u001b[1mDataset mnist downloaded and prepared to /root/tensorflow_datasets/mnist/3.0.1. Subsequent calls will reuse this data.\u001b[0m\n"
          ],
          "name": "stdout"
        }
      ]
    },
    {
      "cell_type": "markdown",
      "metadata": {
        "id": "4vMPjp0UU4Mx"
      },
      "source": [
        "## Display the images\n",
        "The gallery function below shows sample images from the data, together with their labels."
      ]
    },
    {
      "cell_type": "code",
      "metadata": {
        "id": "Xy0BWFwFUQ0J"
      },
      "source": [
        "MAX_IMAGES = 10\n",
        "\n",
        "\n",
        "def gallery(dataset, num_frames, title='Input images'):\n",
        "    num_frames = min(num_frames, MAX_IMAGES)\n",
        "    ff, axes = plt.subplots(1, num_frames,\n",
        "                            figsize=(num_frames, 1),\n",
        "                            subplot_kw={'xticks': [], 'yticks': []})\n",
        "    i = 0\n",
        "    sample = dataset.next()\n",
        "    while sample and i < num_frames:\n",
        "        image = sample['image']\n",
        "        if image.shape[-1] == 3:\n",
        "            axes[i].imshow(image)\n",
        "        else:\n",
        "            axes[i].imshow(image[:,:,0], cmap='gray')\n",
        "        axes[i].set_title(class_mnist[sample['label']])\n",
        "        plt.setp(axes[i].get_xticklabels(), visible=False)\n",
        "        plt.setp(axes[i].get_yticklabels(), visible=False)\n",
        "        sample = dataset.next()\n",
        "        i += 1\n",
        "    ff.subplots_adjust(wspace=0.1)\n",
        "    plt.show()"
      ],
      "execution_count": 4,
      "outputs": []
    },
    {
      "cell_type": "code",
      "metadata": {
        "id": "7kGaRa23RfjT",
        "outputId": "e9157e41-55d0-45ce-d17d-1099d8a13ce1",
        "colab": {
          "base_uri": "https://localhost:8080/",
          "height": 102
        }
      },
      "source": [
        "gallery(train_ds.shuffle(10).as_numpy_iterator(), num_examples[train_split])"
      ],
      "execution_count": 5,
      "outputs": [
        {
          "output_type": "display_data",
          "data": {
            "image/png": "[encoded data removed]",
            "text/plain": [
              "<Figure size 720x72 with 10 Axes>"
            ]
          },
          "metadata": {
            "tags": []
          }
        }
      ]
    },
    {
      "cell_type": "markdown",
      "metadata": {
        "id": "9pgKO2uEU_tn"
      },
      "source": [
        "## Prepare the data for training and testing\n",
        "* We use tensorflow readers; JAX does not have support for input data reading and pre-processing\n",
        "* for training, we use stochastic optimizers (e.g. SGD, Adam), so we need to sample at random mini-batches from the training dataset\n",
        "* for testing, we iterate sequentially through the test set"
      ]
    },
    {
      "cell_type": "markdown",
      "metadata": {
        "id": "ZidT8ipGuq9D"
      },
      "source": [
        "### Excercise 2: Permute pixel values\n",
        "In Exercise 2, we evaluate how a convnet generalizes with respect to the spatial permutation of pixel values ![](https://github.com/m2lschool/tutorials2021/blob/main/assets/vision_part1_pixel_permutation.jpg?raw=true).\n",
        "* All images (both training and test images) are modified using the same permuted index list."
      ]
    },
    {
      "cell_type": "code",
      "metadata": {
        "id": "RDTKjPO_4GLG"
      },
      "source": [
        "#@title 28x28 permutation list (for Exercise 3) { form-width: \"40%\" }\n",
        "def get_permutation_mnist():\n",
        "    p = tf.constant([273,  746,  197,  597,  519,  757,  113,  470,\n",
        "                     321,  552,  585,  246,  229,  569,  773,    6,\n",
        "                     379,  548,  148,  503,   27,  132,   82,  101,\n",
        "                     260,   53,  635,  203,  439,  487,  162,  395,\n",
        "                     311,  593,   33,  183,  215,  264,  699,  692,\n",
        "                     560,  124,  126,  708,   41,  368,  484,  467,\n",
        "                     267,  731,   17,   73,   14,  521,  240,  296,\n",
        "                     43,   779,  629,  640,  268,  150,  586,   56,\n",
        "                     756,  769,  382,  354,   95,  283,  775,  432,\n",
        "                     178,  271,  118,  563,  445,  261,  518,  723,\n",
        "                     725,  449,  595,  617,  607,  400,  697,   96,\n",
        "                     656,  138,  343,  653,  175,  433,  681,  654,\n",
        "                     574,  322,  754,  381,   12,  338,  182,  695,\n",
        "                     556,  491,  512,  717,  224,  303,  496,  693,\n",
        "                     140,  599,  332,  758,  465,   80,  501,  690,\n",
        "                     422,  211,  331,  313,  583,  128,  776,  168,\n",
        "                     463,  201,  334,  228,  643,  514,  106,  713,\n",
        "                     507,  543,  703,  299,   74,  263,  710,  622,\n",
        "                     486,  344,  210,  687,  537,  362,  688,  320,\n",
        "                     91,   403,  778,  534,  674,  783,  284,  724,\n",
        "                     549,  184,  605,   15,    8,  535,   85,  495,\n",
        "                     774,  701,  416,  642,  553,  370,  571,  489,\n",
        "                     388,  171,  761,  475,  397,  227,  753,  278,\n",
        "                     155,  748,  745,  437,  414,  181,  759,  234,\n",
        "                     143,  554,  762,   46,  476,  417,  716,  336,\n",
        "                     117,   47,  602,  525,  718,  660,  760,  451,\n",
        "                     142,  609,  405,  455,  315,  394,   36,  389,\n",
        "                     719,  715,  386,  393,  446,  109,  658,  612,\n",
        "                     685,  577,  641,  770,  510,  704,  275,  335,\n",
        "                     259,  307,  435,  712,  326,  232,  237,  172,\n",
        "                     675,   84,  670,  434,  485,   68,  677,  415,\n",
        "                     492,  732,  366,  557,   22,  765,  722,  579,\n",
        "                     288,  308,   48,  198,  481,  604,  139,  647,\n",
        "                     115,  618,  243,  466,  107,  440,  152,  200,\n",
        "                     230,   83,  755,   10,  144,  749,  528,  494,\n",
        "                     199,  546,  282,  223,  346,  352,  421,  763,\n",
        "                     424,  328,  290,   13,   62,  129,  156,  436,\n",
        "                     252,  359,  538,   35,  459,  226,  657,  401,\n",
        "                     191,  483,  187,  242,  680,  646,  473,    4,\n",
        "                     581,  130,  666,  709,    7,  236,  450,  532,\n",
        "                     667,   70,  410,  266,  189,  649,  257,  700,\n",
        "                     500,  188,  634,   25,  517,  573,  104,  387,\n",
        "                     673,  638,  540,  249,  610,  110,  480,  663,\n",
        "                     9,    225,  339,  398,  131,  372,  628,  174,\n",
        "                     488,   79,  766,  310,  468,  691,  425,  289,\n",
        "                     616,  309,  570,  636,  768,  591,  464,  412,\n",
        "                     120,  782,  652,  541,  100,  280,  721,  423,\n",
        "                     430,  442,  506,  160,  502,  333,  615,  399,\n",
        "                     57,   250,  384,   71,  103,  429,  411,   59,\n",
        "                     529,  630,  444,  625,  179,  747,  218,  627,\n",
        "                     408,  443,  305,  733,  509,  274,  682,  584,\n",
        "                     358,  536,  739,  369,  221,  247,  676,  206,\n",
        "                     1,    438,  265,  672,  287,   26,   39,  606,\n",
        "                     479,  102,  291,   88,  205,   61,  127,  351,\n",
        "                     477,  655,  355,   67,   37,  735,  458,  454,\n",
        "                     737,  173,  231,  158,  555,  337,  644,  505,\n",
        "                     233,  730,  431,  530,  580,  312,  720,  441,\n",
        "                     550,  367,  513,   50,  371,   34,   45,  705,\n",
        "                     153,  122,  209,   51,  216,  185,  611,  327,\n",
        "                     603,  428,   42,  669,  601,  620,  771,  116,\n",
        "                     293,  363,   81,   90,  474,   94,  302,   31,\n",
        "                     317,  619,  471,   86,   64,   683,  20,  330,\n",
        "                     472,  650,  714,  380,  196,  272,  736,  349,\n",
        "                      75,  169,   28,  340,  163,  151,  582,  559,\n",
        "                     376,   24,  539,  176,  207,  600,  767,  592,\n",
        "                     726,  277,  511,   98,  498,  668,  298,  292,\n",
        "                     523,  598,  742,  623,  426,  361,  121,  157,\n",
        "                     146,  490,  780,  360,  679,   38,  222,  419,\n",
        "                     192,  587,   30,   77,  702,  235,  318,  751,\n",
        "                     2,    396,  542,  661,  499,   29,   69,  180,\n",
        "                     621,  217,  588,   58,   60,  164,  772,  545,\n",
        "                     452,  170,  752,  281,  478,  711,  648,  575,\n",
        "                     213,  345,   19,  190,  527,  508,  149,  323,\n",
        "                     624,  404,  420,  256,  413,  626,  134,  390,\n",
        "                     614,  342,  565,  238,  241,  781,  590,  533,\n",
        "                     659,  365,  561,  112,  248,  357,  566,  407,\n",
        "                     253,  461,  594,  255,  406,  750,    3,  356,\n",
        "                     141,   97,   92,  522,  734,  325,   54,  738,\n",
        "                     456,  133,  374,   66,  729,  114,  214,  504,\n",
        "                     383,  631,  347,  686,  578,  613,  239,  645,\n",
        "                     764,  427,  651,  568,   87,  119,   63,   65,\n",
        "                     202,  286,  409,  662,  551,   49,  251,  572,\n",
        "                     632,    5,  524,  515,  608,  208,  329,   18,\n",
        "                     516,  350,  295,  448,  385,  678,  258,  204,\n",
        "                     276,  177,   72,  341,   16,  497,  316,  262,\n",
        "                     544,  526,  707,  348,  254,  447,  520,  453,\n",
        "                     270,  304,  558,  462,  418,  279,   99,  353,\n",
        "                     314,  306,  564,  219,  167,  186,  297,  706,\n",
        "                     0,     89,   11,  402,  531,   78,  728,  373,\n",
        "                     562,  684,  194,  195,  294,  567,  698,  378,\n",
        "                     589,   40,  220,  493,  460,   76,  105,  639,\n",
        "                     324,  166,  740,   23,   52,  161,  319,  392,\n",
        "                     135,  111,  391,  547,  145,  123,  744,  364,\n",
        "                     147,  469,  125,  159,  664,   93,  727,  245,\n",
        "                     696,  377,   21,  665,  694,   55,  269,  285,\n",
        "                     671,  165,  193,  244,  457,  741,  375,  482,\n",
        "                     576,  108,  743,  689,  300,   44,   32,  136,\n",
        "                     596,  637,  137,  154,  633,  777,  301,  212])\n",
        "\n",
        "    return p"
      ],
      "execution_count": 6,
      "outputs": []
    },
    {
      "cell_type": "markdown",
      "metadata": {
        "id": "jUM08vFxuq9G"
      },
      "source": [
        "### Self-supervised learning task: learn the rotation!\n",
        "In exercise 4, we implement a self-supervised approach which consists in randomly rotating the images by multiples of 90 degrees (e.g. 0, 90, 180, or 270 degrees) and learning to recognize the rotation that has been applied. ![](https://github.com/m2lschool/tutorials2021/blob/main/assets/vision_part1_im_rotate.jpg?raw=true)"
      ]
    },
    {
      "cell_type": "code",
      "metadata": {
        "id": "P3MjZSqj0lYt"
      },
      "source": [
        "#@title Dataset loading and preprocessing { form-width: \"40%\" }\n",
        "# We use tensorflow readers; JAX does not have support for input data reading\n",
        "# and pre-processing.\n",
        "def load(ds,\n",
        "         is_training: bool,\n",
        "         flag_permute: bool,\n",
        "         flag_selfsup: bool,\n",
        "         num_transf,\n",
        "         batch_size: int) -> Generator[Batch, None, None]:\n",
        "    \"\"\"Loads the dataset as a generator of batches.\"\"\"\n",
        "    ds = ds.cache().repeat()\n",
        "\n",
        "    if is_training:\n",
        "        ds = ds.shuffle(10 * batch_size, seed=0)\n",
        "\n",
        "    # Define the preprocessing for each train and test image\n",
        "    def preprocess(example):\n",
        "        image, label_transf = _preprocess_image(example['image'],\n",
        "                                                is_training,\n",
        "                                                flag_permute,\n",
        "                                                flag_selfsup,\n",
        "                                                num_transf)\n",
        "        return {'image': image, 'label': example['label'],\n",
        "                'label_transf': label_transf}\n",
        "\n",
        "    # Apply the preprocessing function to all samples in a batch using `map`\n",
        "    ds = ds.map(preprocess, num_parallel_calls=tf.data.experimental.AUTOTUNE)\n",
        "\n",
        "    # Get samples grouped in mini-batches to train using SGD\n",
        "    ds = ds.batch(batch_size)\n",
        "    ds = ds.prefetch(tf.data.experimental.AUTOTUNE)\n",
        "\n",
        "    return tfds.as_numpy(ds)  # return numpy array\n",
        "\n",
        "\n",
        "def _preprocess_image(image: tf.Tensor, is_training: bool,\n",
        "                      flag_permute: bool, flag_selfsup: bool,\n",
        "                      num_transf) -> tf.Tensor:\n",
        "    \"\"\"Returns processed and resized image.\"\"\"\n",
        "    # Images are stored as uint8; we convert to float for further processing.\n",
        "    image = tf.cast(image, tf.float32)\n",
        "    # Normalise pixel values between -1 and 1: original images are in [0, 255].\n",
        "    # We normalise to [-1, 1] to have 0 mean and unit variance in the inputs,\n",
        "    # as it makes the training more stable. Note that we do this normalisation\n",
        "    # over the activations of all the layers in the network by using batch\n",
        "    # normalisation layers.\n",
        "    image = 2 * (image / 255.0) - 1.0\n",
        "\n",
        "    # During training, we use data augmentation.\n",
        "    # In this way, we are effectively increasing the size of the training\n",
        "    # dataset, leading to improved generalisation.\n",
        "    label_transf = []\n",
        "    if is_training:\n",
        "\n",
        "        # Data augmentation\n",
        "        # - apply horizontal flip randomly\n",
        "        # - random crop after padding\n",
        "        # - apply optional data augmentation (permutation, rotation)\n",
        "        image = tf.image.random_flip_left_right(image)\n",
        "        # Pad images by reflecting the boundaries and randomly sample a\n",
        "        # 32x32 patch.\n",
        "        image = tf.pad(image, [[4, 4], [4, 4], [0, 0]], mode='REFLECT')\n",
        "        image = tf.image.random_crop(image, size=(28, 28, 1))\n",
        "\n",
        "    # Exercise 2: permuted MNIST; scramble the images using a fixed permutation\n",
        "    if flag_permute:\n",
        "        ################\n",
        "        # YOUR CODE HERE  reshape image 2D -> 1D array using tf.reshape\n",
        "        image = tf.reshape(image, 28*28*1)\n",
        "\n",
        "        p = get_permutation_mnist()\n",
        "        ################\n",
        "        # YOUR CODE HERE  permute pixels according to permutation p using\n",
        "        #                 tf.gather(..., axis=0). We have batches \n",
        "        image = tf.gather(params=image, indices=p)\n",
        "        # YOUR CODE HERE  reshape to original shape\n",
        "        image = tf.reshape(image, shape=(28,28,1))\n",
        "\n",
        "    # Excercise 4: data augmentation as self-supervision signal:\n",
        "    # for every image sample uniformly at random a transformation (rotation),\n",
        "    # and apply it to the image while returning the id of the transformation\n",
        "    if is_training and flag_selfsup and num_transf:\n",
        "        ################\n",
        "        # YOUR CODE HERE get a transformation label_transf = tf.random.uniform...\n",
        "        label_transf = tf.random.uniform((num_transf, ))\n",
        "        # YOUR CODE HERE apply transformation image = \\\n",
        "        #                tf.image.rot90(image, k=label_transf)\n",
        "        image = tf.image.rot90(image, k=num_transf)\n",
        "    \n",
        "    return image, label_transf"
      ],
      "execution_count": 58,
      "outputs": []
    },
    {
      "cell_type": "code",
      "metadata": {
        "id": "m29LP9Tiylp_",
        "outputId": "46ff7a18-4818-44a2-af7e-ea775cebc716",
        "colab": {
          "base_uri": "https://localhost:8080/",
          "height": 282
        }
      },
      "source": [
        "sample = train_ds.shuffle(1).as_numpy_iterator().next()\n",
        "plt.imshow(sample['image'][:,:,0], cmap='gray')"
      ],
      "execution_count": 59,
      "outputs": [
        {
          "output_type": "execute_result",
          "data": {
            "text/plain": [
              "<matplotlib.image.AxesImage at 0x7f404afb00b8>"
            ]
          },
          "metadata": {
            "tags": []
          },
          "execution_count": 59
        },
        {
          "output_type": "display_data",
          "data": {
            "image/png": "[encoded data removed]",
            "text/plain": [
              "<Figure size 432x288 with 1 Axes>"
            ]
          },
          "metadata": {
            "tags": [],
            "needs_background": "light"
          }
        }
      ]
    },
    {
      "cell_type": "code",
      "metadata": {
        "id": "g5ZtA_mkzEze",
        "outputId": "493eb5f0-d48c-4037-d067-056265fa7682",
        "colab": {
          "base_uri": "https://localhost:8080/",
          "height": 282
        }
      },
      "source": [
        "img, l = _preprocess_image(image=sample['image'], is_training=True,\n",
        "                      flag_permute=False, flag_selfsup=True, num_transf=4) \n",
        "plt.imshow(img[:,:,0], cmap='gray')"
      ],
      "execution_count": 69,
      "outputs": [
        {
          "output_type": "execute_result",
          "data": {
            "text/plain": [
              "<matplotlib.image.AxesImage at 0x7f4054814198>"
            ]
          },
          "metadata": {
            "tags": []
          },
          "execution_count": 69
        },
        {
          "output_type": "display_data",
          "data": {
            "image/png": "[encoded data removed]",
            "text/plain": [
              "<Figure size 432x288 with 1 Axes>"
            ]
          },
          "metadata": {
            "tags": [],
            "needs_background": "light"
          }
        }
      ]
    },
    {
      "cell_type": "markdown",
      "metadata": {
        "id": "-Q9xIZOJEiiU"
      },
      "source": [
        "## General setting; use the options below to switch between exercises."
      ]
    },
    {
      "cell_type": "code",
      "metadata": {
        "id": "6b8dDvmpEgwM"
      },
      "source": [
        "MODEL = \"resnet_v2\"  #@param['resnet_v2','mlp']\n",
        "FLAG_UPDATE_BN_STATS = True  #@param['True', 'False'] {type:\"raw\"}\n",
        "FLAG_PERMUTE = False  #@param['True', 'False'] {type:\"raw\"}\n",
        "FLAG_REGULARIZE = False  #@param['True', 'False'] {type:\"raw\"}\n",
        "FLAG_SELFSUP = False  #@param['True', 'False'] {type:\"raw\"}"
      ],
      "execution_count": 70,
      "outputs": []
    },
    {
      "cell_type": "markdown",
      "metadata": {
        "id": "OalRJVrVR2up"
      },
      "source": [
        "## Define the model\n",
        "[Squeeze-and-Excitation (SE)](https://arxiv.org/pdf/1709.01507.pdf) blocks to our Resnet18 baseline\n",
        "\n",
        "The Squeeze-and-Excitation blocks (figures from original paper [Squeeze-and-Excitation Networks](https://arxiv.org/pdf/1709.01507.pdf)) \n",
        "![SE block](https://github.com/eemlcommunity/PracticalSessions2020/blob/master/assets/SE.png?raw=true)\n",
        "implement a simple form of *self-attention*. A self-attention module, in general, receives a number of inputs and produces the same number of outputs. The operations applied inside the block allow the inputs to interact with each other (\"self\") and recalibrate each other, based on which are deemed more important for that particular sample. \n",
        "\n",
        "The goal of SE block is to apply self-attention at the level of feature channels to allow them to recalibrate using more global information (as opposed to the local information available to conv units).    \n",
        "\n",
        "The Squeeze-and-excitation block has two steps:\n",
        "* *squeeze*: Given an input feature block, extract a global descriptor, one value per channel; a simple global descriptor can be obtained through spatial average global pooling\n",
        "* *excite*: Based on the global descriptor, learn a weight vector (using an MLP) to be applied as a gating mechanism on the original features. The output non-linearity of the block is a `sigmoid` (and not e.g. a softmax) to allow multiple feature channels to be emphasised. These weights are then applied (through broadcasting) over the original features, emphasising the features that are more important for those inputs.\n"
      ]
    },
    {
      "cell_type": "code",
      "metadata": {
        "id": "D4rKFJXE5Qns",
        "outputId": "be0571d4-88d2-4eda-99c3-53e4102bcc82",
        "colab": {
          "base_uri": "https://localhost:8080/"
        }
      },
      "source": [
        "img.shape"
      ],
      "execution_count": 71,
      "outputs": [
        {
          "output_type": "execute_result",
          "data": {
            "text/plain": [
              "TensorShape([28, 28, 1])"
            ]
          },
          "metadata": {
            "tags": []
          },
          "execution_count": 71
        }
      ]
    },
    {
      "cell_type": "code",
      "metadata": {
        "id": "sTypwslr7jn9",
        "outputId": "ca185332-ac9d-4bbf-edf9-3be2cdd42e24",
        "colab": {
          "base_uri": "https://localhost:8080/"
        }
      },
      "source": [
        "jnp.mean(img.numpy(), axis=[1, 2]).shape"
      ],
      "execution_count": 88,
      "outputs": [
        {
          "output_type": "execute_result",
          "data": {
            "text/plain": [
              "(28,)"
            ]
          },
          "metadata": {
            "tags": []
          },
          "execution_count": 88
        }
      ]
    },
    {
      "cell_type": "code",
      "metadata": {
        "id": "KUmG5uoe5bJU",
        "outputId": "96136909-cc8d-46fb-a1cd-3921553d8d79",
        "colab": {
          "base_uri": "https://localhost:8080/"
        }
      },
      "source": [
        "jax.nn.relu"
      ],
      "execution_count": 74,
      "outputs": [
        {
          "output_type": "execute_result",
          "data": {
            "text/plain": [
              "<jax.custom_derivatives.custom_jvp at 0x7f40c582c438>"
            ]
          },
          "metadata": {
            "tags": []
          },
          "execution_count": 74
        }
      ]
    },
    {
      "cell_type": "code",
      "metadata": {
        "id": "2_LaVpUHj_hW"
      },
      "source": [
        "class SEBlock(hk.Module):\n",
        "    \"\"\"Squeeze and Excitation block.\"\"\"\n",
        "    def __init__(self, channels: Sequence[int],\n",
        "                 name: Optional[str] = None):\n",
        "        super().__init__(name=name)\n",
        "        check_length(2, channels, \"channels\")\n",
        "        self.fc1 = hk.Linear(channels[0])\n",
        "        self.fc2 = hk.Linear(channels[1])\n",
        "\n",
        "    def __call__(self, inputs):\n",
        "        ################\n",
        "        # YOUR CODE HERE\n",
        "\n",
        "        # Apply the squeeze step using spatial average global pooling\n",
        "        # YOUR CODE HERE out = jnp.mean(...\n",
        "        out = jnp.mean(inputs, axis=[1, 2])\n",
        "        \n",
        "        # Excite step: linear layer, ReLU, linear layer, sigmoid\n",
        "        # YOUR CODE HERE out = ...\n",
        "        out = jax.nn.relu(self.fc1(out))\n",
        "        out = jax.nn.sigmoid(self.fc2(out))\n",
        "        \n",
        "        # Scale the input features with the obtained self-attention weights\n",
        "        # YOUR CODE HERE out = jnp.expand_dims(out, axis=(1, 2))\n",
        "        out = jnp.expand_dims(out, axis=(1, 2))\n",
        "        # YOUR CODE HERE out = ...\n",
        "        out = inputs * out\n",
        "        return out"
      ],
      "execution_count": 89,
      "outputs": []
    },
    {
      "cell_type": "markdown",
      "metadata": {
        "id": "WkGQo_yfwffs"
      },
      "source": [
        "### SE-Resnet module"
      ]
    },
    {
      "cell_type": "markdown",
      "metadata": {
        "id": "rjSL6XF6wilp"
      },
      "source": [
        "To apply the SE block to a Resnet architecture, we simply insert the SE block within each resnet block before the element-wise addition between the shortcut and the residual connections\n",
        "\n",
        "![alt text](https://github.com/eemlcommunity/PracticalSessions2020/blob/master/assets/SEresnet.png?raw=true)"
      ]
    },
    {
      "cell_type": "markdown",
      "metadata": {
        "id": "g3Bnix7awvYV"
      },
      "source": [
        "### Create a resnet block"
      ]
    },
    {
      "cell_type": "markdown",
      "metadata": {
        "id": "TkhQYRJVw0ZN"
      },
      "source": [
        "In a typical sequential model (no branching), the network as a whole is optimised to find the mapping between inputs and correct labels. In residual networks, each layer can learn an additive residual representation wrt to the representation already computed up to the previous layer, making the optimisation easier.\n",
        "\n",
        "As opposed to [resnet-v1](https://arxiv.org/pdf/1512.03385.pdf) blocks (left), [resnet-v2](https://arxiv.org/pdf/1603.05027.pdf) blocks (right) use pre-activation modules, i.e. the batch normalisation (`BN`) and relu (`ReLU`) nonlinearity are applied within the resnet block, before the convolutional layer (`weight`). This allows the model to learn identity mappings over the shortcuts throughout the network, improving further the backpropagation of gradients.   \n",
        "\n",
        "<img src=\"https://github.com/eemlcommunity/PracticalSessions2020/blob/master/assets/v1v2.png?raw=true\" alt=\"resnet blocks\" style=\"width: 80px;\"/>\n",
        "\n",
        "Figure from original [resnet-v2 paper](https://arxiv.org/pdf/1603.05027.pdf)."
      ]
    },
    {
      "cell_type": "markdown",
      "metadata": {
        "id": "kOsLDuGZw4_j"
      },
      "source": [
        "*Bottleneck blocks*: To reduce the number of parameters and memory footprint without sacrificing expressivity, bottleneck blocks can be applied. Instead of using 2 conv layers (`weight` in the figure above) with 3x3 filters, empirically it is shown that projecting in a lower dimensional space (using 1x1 conv layers), applying 3x3 convolutions, and then reprojecting back into the original dimension space, does not affect accuracy.    \n",
        "\n",
        "*1x1 conv shortcuts*: when the input and the output of a resnet block have different numbers of channels, 1x1 convolutional layers are used on the shortcut to project the representation to the desired output feature dimension."
      ]
    },
    {
      "cell_type": "markdown",
      "metadata": {
        "id": "EJf0jt34w-I2"
      },
      "source": [
        "## Resnet block with self-attention (coding exercise)"
      ]
    },
    {
      "cell_type": "code",
      "metadata": {
        "id": "rSYh1ejRkDFv"
      },
      "source": [
        "def check_length(length, value, name):\n",
        "    if len(value) != length:\n",
        "        raise ValueError(f\"`{name}` must be of length 4 not {len(value)}\")\n",
        "\n",
        "\n",
        "class BlockV2(hk.Module):\n",
        "    \"\"\"ResNet V2 block with optional bottleneck.\"\"\"\n",
        "    def __init__(self,\n",
        "                 channels: int,\n",
        "                 stride: Union[int, Sequence[int]],\n",
        "                 use_projection: bool,\n",
        "                 bn_config: Mapping[str, float],\n",
        "                 bottleneck: bool,\n",
        "                 name: Optional[str] = None):\n",
        "        super().__init__(name=name)\n",
        "        self.use_projection = use_projection\n",
        "\n",
        "        # Define batch norm parameters: the batch_norm layer normalises the\n",
        "        # inputs to have zero mean and unit variance. To not affect the\n",
        "        # expressivity of the network, e.g. in cases where it would be better\n",
        "        # for the activations to not be 0-centred or to have larger variance,\n",
        "        # batch_norm can optionally learn a scale and an offset parameters.\n",
        "        bn_config = dict(bn_config)\n",
        "        bn_config.setdefault(\"create_scale\", True)\n",
        "        bn_config.setdefault(\"create_offset\", True)\n",
        "\n",
        "        # See comment above about 1x1 conv shortcut\n",
        "        if self.use_projection:\n",
        "            self.proj_conv = hk.Conv2D(\n",
        "                output_channels=channels,\n",
        "                kernel_shape=1,\n",
        "                stride=stride,\n",
        "                with_bias=False,\n",
        "                padding=\"SAME\",\n",
        "                name=\"shortcut_conv\")\n",
        "\n",
        "        # If we use bottleneck blocks (see comment above), inside the resnet\n",
        "        # block we first project the activations into a lower dimensional\n",
        "        # space, which has number of channels divided by `channel_div`\n",
        "        # compared to the desired number of channels in the output.\n",
        "        channel_div = 4 if bottleneck else 1\n",
        "        conv_0 = hk.Conv2D(\n",
        "            output_channels=channels // channel_div,\n",
        "            kernel_shape=1 if bottleneck else 3,\n",
        "            stride=1,\n",
        "            with_bias=False,\n",
        "            padding=\"SAME\",\n",
        "            name=\"conv_0\")\n",
        "\n",
        "        bn_0 = hk.BatchNorm(name=\"batchnorm_0\", **bn_config)\n",
        "        # Then we apply the 3x3 conv layer\n",
        "        conv_1 = hk.Conv2D(\n",
        "            output_channels=channels // channel_div,\n",
        "            kernel_shape=3,\n",
        "            stride=stride,\n",
        "            with_bias=False,\n",
        "            padding=\"SAME\",\n",
        "            name=\"conv_1\")\n",
        "\n",
        "        bn_1 = hk.BatchNorm(name=\"batchnorm_1\", **bn_config)\n",
        "        layers = ((conv_0, bn_0), (conv_1, bn_1))\n",
        "\n",
        "        # When using bottleneck, we have also a 3rd 1x1 convolutional layer\n",
        "        # within the resnet block (see comment above about bottleneck blocks)\n",
        "        if bottleneck:\n",
        "            conv_2 = hk.Conv2D(\n",
        "                output_channels=channels,\n",
        "                kernel_shape=1,\n",
        "                stride=1,\n",
        "                with_bias=False,\n",
        "                padding=\"SAME\",\n",
        "                name=\"conv_2\")\n",
        "\n",
        "            bn_2 = hk.BatchNorm(name=\"batchnorm_2\", **bn_config)\n",
        "            layers = layers + ((conv_2, bn_2),)\n",
        "\n",
        "        self.layers = layers\n",
        "        ################\n",
        "        # YOUR CODE HERE\n",
        "\n",
        "        # Define the self-attention block\n",
        "        # YOUR CODE HERE self.se_block = ...\n",
        "\n",
        "    def __call__(self, inputs, is_training, test_local_stats):\n",
        "        x = shortcut = inputs\n",
        "        for i, (conv_i, bn_i) in enumerate(self.layers):\n",
        "            # Apply pre-activation: batch_norm + relu\n",
        "            x = bn_i(x, is_training, test_local_stats)\n",
        "            x = jax.nn.relu(x)\n",
        "            # If using 1x1 conv projection on the shortcut,\n",
        "            # apply proj_conv once\n",
        "            if i == 0 and self.use_projection:\n",
        "                shortcut = self.proj_conv(x)\n",
        "            # Apply convolution\n",
        "            x = conv_i(x)\n",
        "\n",
        "        ################\n",
        "        # YOUR CODE HERE\n",
        "\n",
        "        # Apply the SE block before the element-wise addition between\n",
        "        # the shortcut and the residual\n",
        "        # YOUR CODE HERE x = ...\n",
        "\n",
        "        return x + shortcut"
      ],
      "execution_count": null,
      "outputs": []
    },
    {
      "cell_type": "code",
      "metadata": {
        "id": "ceXoZkkvkJKL"
      },
      "source": [
        "#@title Stack resnet blocks { form-width: \"40%\" }\n",
        "class BlockGroup(hk.Module):\n",
        "    \"\"\"Group of blocks for ResNet implementation.\"\"\"\n",
        "\n",
        "    def __init__(\n",
        "        self,\n",
        "        channels: int,\n",
        "        num_blocks: int,\n",
        "        stride: Union[int, Sequence[int]],\n",
        "        bn_config: Mapping[str, float],\n",
        "        bottleneck: bool,\n",
        "        use_projection: bool,\n",
        "        name: Optional[str] = None):\n",
        "        super().__init__(name=name)\n",
        "\n",
        "        self.blocks = []\n",
        "        for i in range(num_blocks):\n",
        "            self.blocks.append(\n",
        "                BlockV2(channels=channels,\n",
        "                        stride=(1 if i else stride),\n",
        "                        use_projection=(i == 0 and use_projection),\n",
        "                        bottleneck=bottleneck,\n",
        "                        bn_config=bn_config,\n",
        "                        name=\"block_%d\" % (i)))\n",
        "\n",
        "    def __call__(self, inputs, is_training, test_local_stats):\n",
        "        out = inputs\n",
        "        for block in self.blocks:\n",
        "            out = block(out, is_training, test_local_stats)\n",
        "        return out"
      ],
      "execution_count": null,
      "outputs": []
    },
    {
      "cell_type": "code",
      "metadata": {
        "id": "ZKw0Kk5QkNCD"
      },
      "source": [
        "#@title Define a generic resnet architecture { form-width: \"40%\" }\n",
        "# Note: This class is generic, it can be used to instantiate any Resnet\n",
        "# model, e.g. Resnet-50, Resnet-101, etc. by substituting the correct block\n",
        "# parameters\n",
        "class ResNet(hk.Module):\n",
        "    \"\"\"ResNet model.\"\"\"\n",
        "\n",
        "    def __init__(\n",
        "        self,\n",
        "        blocks_per_group: Sequence[int],\n",
        "        num_classes: int,\n",
        "        num_transf: str,\n",
        "        bn_config: Optional[Mapping[str, float]] = None,\n",
        "        bottleneck: bool = True,\n",
        "        channels_per_group: Sequence[int] = (256, 512, 1024, 2048),\n",
        "        use_projection: Sequence[bool] = (True, True, True, True),\n",
        "        name: Optional[str] = None,\n",
        "    ):\n",
        "        \"\"\"Constructs a ResNet model.\n",
        "        Args:\n",
        "            blocks_per_group: A sequence of length 4 that indicates the number\n",
        "                of blocks created in each group.\n",
        "            num_classes: The number of classes to classify the inputs into.\n",
        "            bn_config: A dictionary of two elements, `decay_rate` and `eps` to\n",
        "                be passed on to the `BatchNorm` layers. By default the\n",
        "                `decay_rate` is `0.9` and `eps` is `1e-5`.\n",
        "            bottleneck: Whether the block should bottleneck or not. Defaults\n",
        "                to True.\n",
        "            channels_per_group: A sequence of length 4 that indicates the\n",
        "                number of channels used for each block in each group.\n",
        "            use_projection: A sequence of length 4 that indicates whether each\n",
        "                residual block should use projection.\n",
        "            name: Name of the module.\n",
        "        \"\"\"\n",
        "        super().__init__(name=name)\n",
        "        bn_config = dict(bn_config or {})\n",
        "        bn_config.setdefault(\"decay_rate\", 0.9)\n",
        "        bn_config.setdefault(\"eps\", 1e-5)\n",
        "        bn_config.setdefault(\"create_scale\", True)\n",
        "        bn_config.setdefault(\"create_offset\", True)\n",
        "\n",
        "        # Number of blocks in each group for ResNet.\n",
        "        check_length(4, blocks_per_group, \"blocks_per_group\")\n",
        "        check_length(4, channels_per_group, \"channels_per_group\")\n",
        "\n",
        "        # We first convolve the image with 7x7 filters, to be able to better\n",
        "        # extract low-level features such as contours. Using conv with stride=2\n",
        "        # halves the resolution of the input, reducing considerably the\n",
        "        # computation cost, and increasing the receptive field.\n",
        "        self.initial_conv = hk.Conv2D(\n",
        "            output_channels=64,\n",
        "            kernel_shape=7,\n",
        "            stride=2,\n",
        "            with_bias=False,\n",
        "            padding=\"SAME\",\n",
        "            name=\"initial_conv\")\n",
        "\n",
        "        self.block_groups = []\n",
        "        strides = (1, 2, 2, 2)\n",
        "        for i in range(4):\n",
        "            self.block_groups.append(\n",
        "                BlockGroup(channels=channels_per_group[i],\n",
        "                           num_blocks=blocks_per_group[i],\n",
        "                           stride=strides[i],\n",
        "                           bn_config=bn_config,\n",
        "                           bottleneck=bottleneck,\n",
        "                           use_projection=use_projection[i],\n",
        "                           name=\"block_group_%d\" % (i)))\n",
        "\n",
        "        self.final_batchnorm = hk.BatchNorm(name=\"final_batchnorm\", **bn_config)\n",
        "\n",
        "        # Add output classifier\n",
        "        self.logits = hk.Linear(num_classes, w_init=jnp.zeros, name=\"logits\")\n",
        "\n",
        "        # Add second head for transformation prediction\n",
        "        self.logits_transf = None\n",
        "        if num_transf:\n",
        "            self.logits_transf = hk.Linear(num_transf, w_init=jnp.zeros,\n",
        "                                           name=\"logits_transf\")\n",
        "\n",
        "    def __call__(self, inputs, is_training, test_local_stats=False):\n",
        "        out = inputs\n",
        "        out = self.initial_conv(out)\n",
        "        # Reduce the spatial resolution of the activations by a factor of 2.\n",
        "        # This increases the receptive field and reduces the computation cost.\n",
        "        # Note that compared to a strided conv which has the same effects,\n",
        "        # the pooling layers does not have trainable parameters.\n",
        "        out = hk.max_pool(out,\n",
        "                          window_shape=(1, 3, 3, 1),\n",
        "                          strides=(1, 2, 2, 1),\n",
        "                          padding=\"SAME\")\n",
        "\n",
        "        for block_group in self.block_groups:\n",
        "            out = block_group(out, is_training, test_local_stats)\n",
        "\n",
        "        out = self.final_batchnorm(out, is_training, test_local_stats)\n",
        "        out = jax.nn.relu(out)\n",
        "\n",
        "        # Pool over spatial dimensions to obtain the final vector embedding\n",
        "        # of the image. Use jnp.mean and not hk.avg_pool, to make sure that the\n",
        "        # network can be applied to inputs with any resolution without\n",
        "        # modification of the model.\n",
        "        out = jnp.mean(out, axis=[1, 2])\n",
        "\n",
        "        logits_transf = None\n",
        "        if self.logits_transf:\n",
        "            logits_transf = self.logits_transf(out)\n",
        "\n",
        "        return self.logits(out), logits_transf"
      ],
      "execution_count": null,
      "outputs": []
    },
    {
      "cell_type": "code",
      "metadata": {
        "id": "qbGAIjXUkSbw"
      },
      "source": [
        "#@title Instantiate Resnet18 { form-width: \"40%\" }\n",
        "class ResNet18(ResNet):\n",
        "    \"\"\"ResNet18.\"\"\"\n",
        "\n",
        "    def __init__(self,\n",
        "                 num_classes: int, num_transf: str,\n",
        "                 bn_config: Optional[Mapping[str, float]] = None,\n",
        "                 name: Optional[str] = None):\n",
        "        \"\"\"Constructs a ResNet model.\n",
        "        Args:\n",
        "          num_classes: The number of classes to classify the inputs into.\n",
        "          bn_config: A dictionary of two elements, `decay_rate` and `eps` to be\n",
        "              passed on to the `BatchNorm` layers.\n",
        "          name: Name of the module.\n",
        "        \"\"\"\n",
        "        super().__init__(blocks_per_group=(2, 2, 2, 2),\n",
        "                         num_classes=num_classes,\n",
        "                         num_transf=num_transf,\n",
        "                         bn_config=bn_config,\n",
        "                         bottleneck=False,\n",
        "                         channels_per_group=(64, 128, 256, 512),\n",
        "                         use_projection=(False, True, True, True),\n",
        "                         name=name)"
      ],
      "execution_count": null,
      "outputs": []
    },
    {
      "cell_type": "markdown",
      "metadata": {
        "id": "7gcsY1Mjaf_s"
      },
      "source": [
        "## Define simple MLP baseline"
      ]
    },
    {
      "cell_type": "code",
      "metadata": {
        "id": "SYekdfZBaiTy"
      },
      "source": [
        "class MLP(hk.Module):\n",
        "    def __init__(self, num_classes=10, num_transf=None):\n",
        "        super().__init__()\n",
        "        self.num_classes = num_classes\n",
        "        self.num_transf = num_transf\n",
        "\n",
        "    def __call__(self, inputs, is_training=True):\n",
        "        batch_norm_args = {\n",
        "            \"is_training\": is_training\n",
        "        }\n",
        "        bs = inputs.shape[0]\n",
        "        inputs = jnp.reshape(inputs, [bs, -1])\n",
        "        net = hk.Linear(1024)(inputs)\n",
        "        net = jax.nn.relu(net)\n",
        "        net = hk.BatchNorm(True,\n",
        "                           True,\n",
        "                           0.99,\n",
        "                           eps=0.001,\n",
        "                           name=\"bn_postnorm1\")(inputs, **batch_norm_args)\n",
        "        net = hk.Linear(1024)(net)\n",
        "        net = jax.nn.relu(net)\n",
        "        net = hk.BatchNorm(True,\n",
        "                           True,\n",
        "                           0.99,\n",
        "                           eps=0.001,\n",
        "                           name=\"bn_postnorm2\")(net, **batch_norm_args)\n",
        "        logits = hk.Linear(self.num_classes, name=\"logits\")(net)\n",
        "        logits_transf = None\n",
        "        if self.num_transf:\n",
        "            logits_transf = hk.Linear(self.num_transf,\n",
        "                                      name=\"logits_transf\")(net)\n",
        "        return logits, logits_transf"
      ],
      "execution_count": null,
      "outputs": []
    },
    {
      "cell_type": "markdown",
      "metadata": {
        "id": "QPex0rz3auId"
      },
      "source": [
        "## Hyper-parameters for training and optimiser"
      ]
    },
    {
      "cell_type": "code",
      "metadata": {
        "id": "SoTsOIRQSPV0"
      },
      "source": [
        "INIT_RANDOM_SEED = 42  #@param\n",
        "TRAIN_BATCH_SIZE = 128\n",
        "TEST_BATCH_SIZE = 100\n",
        "\n",
        "# Model parameters\n",
        "# NUM_TRANSF can be None or 4 corresponding to 4 rotations (0, 90, 180, 270)\n",
        "NUM_TRANSF = 4  #@param\n",
        "\n",
        "# reduction ratio for SE blocks\n",
        "REDUCTION_RATIO = 16  #@param\n",
        "\n",
        "# Optimizer parameters\n",
        "REGLOSS_WEIGHT_DECAY = 1e-4  #@param\n",
        "OPTIMIZER_MOMENTUM = 0.9  #@param\n",
        "OPTIMIZER_USE_NESTEROV = True  #@param\n",
        "\n",
        "# Define number of training iterations and reporting intervals\n",
        "TRAIN_ITERS = 100e2  #@param\n",
        "SAVE_MODEL_EVERY = 100  #@param\n",
        "REPORT_TEST_EVERY = 1000  #@param\n",
        "TEST_ITERS = (num_examples[eval_split]) // TEST_BATCH_SIZE"
      ],
      "execution_count": null,
      "outputs": []
    },
    {
      "cell_type": "markdown",
      "metadata": {
        "id": "117ebPugarCO"
      },
      "source": [
        "### Instanciate either MLP baseline or convnet"
      ]
    },
    {
      "cell_type": "code",
      "metadata": {
        "id": "pfHEpqp3DZbR"
      },
      "source": [
        "if MODEL == 'mlp':\n",
        "    net_fn = lambda *args: MLP(num_classes=num_classes,\n",
        "                               num_transf=NUM_TRANSF)(*args)\n",
        "  \n",
        "else:  # model is resnet_v2\n",
        "    net_fn = lambda *args: ResNet18(num_classes, NUM_TRANSF)(*args)\n",
        "\n",
        "# We use transform with state because we need to keep the state of the network,\n",
        "# e.g. for batch norm statistics.\n",
        "net = hk.transform_with_state(net_fn)"
      ],
      "execution_count": null,
      "outputs": []
    },
    {
      "cell_type": "code",
      "metadata": {
        "id": "5-F4W5niV1sm"
      },
      "source": [
        "# Get number of parameters in a scope by iterating through the\n",
        "# trainable variables\n",
        "def get_num_params(params: hk.Params) -> jnp.ndarray:\n",
        "    total_parameters = 0\n",
        "    for p in jax.tree_leaves(params):\n",
        "        total_parameters += jnp.prod(jnp.asarray(p.shape))\n",
        "    return total_parameters"
      ],
      "execution_count": null,
      "outputs": []
    },
    {
      "cell_type": "code",
      "metadata": {
        "id": "7aUrDkAASwLY"
      },
      "source": [
        "#@title Define learning rate schedule and optimizer { form-width: \"40%\" }\n",
        "# We use learning rate annealing during training. We start with a larger\n",
        "# learning rate `lr_init` which allows exploring faster the space of solutions\n",
        "# and we reduce it by a factor of 10 `lr_factor` after a predefined number of\n",
        "# steps. Smaller learning rate at the end of the training allows the model to\n",
        "# explore a local neighbourhood and settle on a good local minimum.\n",
        "def lr_schedule(step: jnp.ndarray) -> jnp.ndarray:\n",
        "    \"\"\"Define learning rate annealing schedule.\"\"\"\n",
        "    # After how many steps to apply the learning rate reduction\n",
        "    boundaries = jnp.array((5000, 8000, 9500))  # after how many iterations\n",
        "    # to reduce the learning rate\n",
        "    # Every time we hit a predefined number of steps, we apply the reduction\n",
        "    # of the learning rate by `lr_factor`\n",
        "    lr_decay_exponent = jnp.sum(step >= boundaries)\n",
        "    lr_init = 0.1  # initial value for learning rate\n",
        "    lr_factor = 0.1  # reduce learning rate by this factor\n",
        "    return lr_init * lr_factor**lr_decay_exponent\n",
        "\n",
        "\n",
        "# Define the optimiser, we use SGD with nesterov momentum\n",
        "def make_optimizer():\n",
        "    \"\"\"SGD and a custom lr schedule.\"\"\"\n",
        "    return optax.chain(optax.trace(decay=OPTIMIZER_MOMENTUM,\n",
        "                                   nesterov=OPTIMIZER_USE_NESTEROV),\n",
        "                       optax.scale_by_schedule(lr_schedule),\n",
        "                       optax.scale(-1))"
      ],
      "execution_count": null,
      "outputs": []
    },
    {
      "cell_type": "code",
      "metadata": {
        "id": "JSh0bFEGSgJH"
      },
      "source": [
        "#@title Define the loss function: cross-entropy for classification and weight decay for regularization { form-width: \"40%\" }\n",
        "# Function to compute l2 loss - useful for regularisation\n",
        "def l2_loss(params: Iterable[jnp.ndarray]) -> jnp.ndarray:\n",
        "    return 0.5 * sum(jnp.sum(jnp.square(p)) for p in params)\n",
        "\n",
        "\n",
        "# Function to compute softmax cross entropy for classification\n",
        "def softmax_cross_entropy(\n",
        "    *,\n",
        "    logits: jnp.ndarray,\n",
        "    labels: jnp.ndarray,\n",
        ") -> jnp.ndarray:\n",
        "    return -jnp.sum(labels * jax.nn.log_softmax(logits), axis=-1)\n",
        "\n",
        "\n",
        "def loss_fn(\n",
        "    params: hk.Params,\n",
        "    state: hk.State,\n",
        "    batch: Batch\n",
        ") -> Tuple[jnp.ndarray, hk.State]:\n",
        "    \"\"\"Computes a regularized loss for the given batch.\"\"\"\n",
        "    # The third parameter would be an rng key if one is needed in running\n",
        "    # the model, e.g. for dropout. If not needed, pass `None`.\n",
        "    (logits, logits_selfsup), state = net.apply(params, state, None,\n",
        "                                                batch['image'], True)\n",
        "\n",
        "    # Estimate accuracy for the current batch\n",
        "    predicted_label = jnp.argmax(logits, axis=-1)\n",
        "    correct = jnp.sum(jnp.equal(predicted_label, batch['label']))\n",
        "    acc = correct.astype(jnp.float32) / TRAIN_BATCH_SIZE\n",
        "\n",
        "    # The labels are given as class indices; convert to one_hot representation\n",
        "    labels = jax.nn.one_hot(batch['label'], num_classes)\n",
        "    # Compute classification loss\n",
        "    loss = jnp.mean(softmax_cross_entropy(logits=logits, labels=labels))\n",
        "\n",
        "    # Exercise 3 - Add regularization\n",
        "    if FLAG_REGULARIZE:\n",
        "        ################\n",
        "        # YOUR CODE HERE\n",
        "\n",
        "        # Get all the trainable parameters of the model, except batch_norm\n",
        "        # parameters to apply weight decay regularisation , i.e. we penalise\n",
        "        # weights with large magnitude\n",
        "        # YOUR CODE HERE l2_params = ...\n",
        "        l2_params = [p for ((mod_name, _), p) in tree.flatten_with_path(params)\n",
        "                     if 'batchnorm' not in mod_name]\n",
        "        # We apply a weighting factor to the regularisation loss, so that it\n",
        "        # does not dominate the total loss\n",
        "        # YOUR CODE HERE reg_loss = REGLOSS_WEIGHT_DECAY * ...\n",
        "        # YOUR CODE HERE loss += ...\n",
        "        \n",
        "    # Exercise 4 - Add auxiliary loss for self-supervised learning\n",
        "    if FLAG_SELFSUP:\n",
        "        ################\n",
        "        # YOUR CODE HERE labels_selfsup = jax.nn.one_hot(batch['label_transf'], ...\n",
        "        # YOUR CODE HERE loss += ...\n",
        "\n",
        "    return loss, (state, acc)"
      ],
      "execution_count": null,
      "outputs": []
    },
    {
      "cell_type": "code",
      "metadata": {
        "id": "-Hi1vyVhDEyO"
      },
      "source": [
        "#@title Define the training step { form-width: \"40%\" }\n",
        "@jax.jit\n",
        "def train_step(\n",
        "    params: hk.Params,\n",
        "    state: hk.State,\n",
        "    opt_state: OptState,\n",
        "    batch: Batch,\n",
        ") -> Tuple[hk.Params, hk.State, OptState, jnp.ndarray]:\n",
        "    \"\"\"Applies an update to parameters and returns new state.\"\"\"\n",
        "    (loss, aux_data), grads = (\n",
        "      jax.value_and_grad(loss_fn, has_aux=True)(params, state, batch))\n",
        "\n",
        "    state, acc = aux_data\n",
        "\n",
        "    # Compute and apply updates via our optimizer.\n",
        "    updates, opt_state = make_optimizer().update(grads, opt_state)\n",
        "    params = optax.apply_updates(params, updates)\n",
        "\n",
        "    return params, state, opt_state, loss, acc"
      ],
      "execution_count": null,
      "outputs": []
    },
    {
      "cell_type": "code",
      "metadata": {
        "id": "H-RfHRb1DGO0"
      },
      "source": [
        "#@title Define the evaluation { form-width: \"40%\" }\n",
        "@jax.jit\n",
        "def eval_batch(\n",
        "    params: hk.Params,\n",
        "    state: hk.State,\n",
        "    batch: Batch,\n",
        ") -> jnp.ndarray:\n",
        "    \"\"\"Evaluates a batch.\"\"\"\n",
        "    # The third parameter would be an rng key if one is needed in running\n",
        "    # the model, e.g. for dropout. If not needed, pass `None`.\n",
        "    (logits, _), state = net.apply(params, state, None, batch['image'], False)\n",
        "    predicted_label = jnp.argmax(logits, axis=-1)\n",
        "    correct = jnp.sum(jnp.equal(predicted_label, batch['label']))\n",
        "    return correct.astype(jnp.float32)\n",
        "\n",
        "\n",
        "def evaluate(\n",
        "    params: hk.Params,\n",
        "    state: hk.State,\n",
        ") -> jnp.ndarray:\n",
        "    \"\"\"Evaluates the model at the given params/state.\"\"\"\n",
        "    correct = jnp.array(0)\n",
        "    total = 0\n",
        "    test_dataset = load(test_ds, is_training=False, batch_size=TEST_BATCH_SIZE,\n",
        "                        flag_permute=FLAG_PERMUTE, flag_selfsup=False,\n",
        "                        num_transf=None)\n",
        "    test_dataset = iter(test_dataset)\n",
        "    for eval_iter in range(TEST_ITERS):\n",
        "        correct += eval_batch(params, state, next(test_dataset))\n",
        "        total += TEST_BATCH_SIZE\n",
        "\n",
        "    return correct.item() / total"
      ],
      "execution_count": null,
      "outputs": []
    },
    {
      "cell_type": "code",
      "metadata": {
        "id": "l_dTKQblSzkm"
      },
      "source": [
        "#@title Initialise the model and the optimiser { form-width: \"40%\" }\n",
        "def make_initial_state(\n",
        "    rng: jnp.ndarray,\n",
        "    batch: Batch,\n",
        ") -> Tuple[hk.Params, hk.State, OptState]:\n",
        "    \"\"\"Computes the initial network state.\"\"\"\n",
        "    params, state = net.init(rng, batch['image'], True)\n",
        "    opt_state = make_optimizer().init(params)\n",
        "    return params, state, opt_state"
      ],
      "execution_count": null,
      "outputs": []
    },
    {
      "cell_type": "markdown",
      "metadata": {
        "id": "6ARGcbSGTFDN"
      },
      "source": [
        "## Training the model"
      ]
    },
    {
      "cell_type": "code",
      "metadata": {
        "id": "Oc0wJi1Uw_8V"
      },
      "source": [
        "#@title Show training statistics using Tensorboard { form-width: \"40%\" }\n",
        "import datetime\n",
        "exp_dir = \"exp_\" + MODEL + (\"\", \"_regularize\")[FLAG_REGULARIZE] + \\\n",
        "    (\"\", \"_permutepixels\")[FLAG_PERMUTE] + (\"\", \"_selfsup\")[FLAG_SELFSUP] + \\\n",
        "    (\"\", \"_updatebn\")[FLAG_UPDATE_BN_STATS] + \"/\"\n",
        "\n",
        "summary_writer = tf.summary.create_file_writer(\n",
        "  exp_dir + \"log/\" + datetime.datetime.now().strftime(\"%Y%m%d-%H%M%S\"))"
      ],
      "execution_count": null,
      "outputs": []
    },
    {
      "cell_type": "code",
      "metadata": {
        "id": "JySfLZEM3f5O"
      },
      "source": [
        "# Launch the viewer\n",
        "%load_ext tensorboard\n",
        "%tensorboard --logdir {\".\"}"
      ],
      "execution_count": null,
      "outputs": []
    },
    {
      "cell_type": "code",
      "metadata": {
        "id": "76mgn8H3FHG2"
      },
      "source": [
        "# Get training dataset\n",
        "train_dataset = load(train_ds, is_training=True, batch_size=TRAIN_BATCH_SIZE,\n",
        "                     flag_permute=FLAG_PERMUTE, flag_selfsup=FLAG_SELFSUP,\n",
        "                     num_transf=NUM_TRANSF)\n",
        "train_dataset = iter(train_dataset)"
      ],
      "execution_count": null,
      "outputs": []
    },
    {
      "cell_type": "code",
      "metadata": {
        "id": "j3bkVvF0FD8P"
      },
      "source": [
        "rng = jax.random.PRNGKey(INIT_RANDOM_SEED)\n",
        "\n",
        "# Initialization requires an example input to calculate shapes of parameters.\n",
        "batch = next(train_dataset)\n",
        "params, state, opt_state = make_initial_state(rng, batch)"
      ],
      "execution_count": null,
      "outputs": []
    },
    {
      "cell_type": "code",
      "metadata": {
        "id": "l7VKCh9ySddK"
      },
      "source": [
        "# Get number of parameters in the model.\n",
        "print(\"Total number of parameters of models\")\n",
        "print(get_num_params(params))"
      ],
      "execution_count": null,
      "outputs": []
    },
    {
      "cell_type": "code",
      "metadata": {
        "id": "1f3rHQ2HpF5w"
      },
      "source": [
        "for step_num in range(int(TRAIN_ITERS)):\n",
        "    # Take a training step.\n",
        "    batch = next(train_dataset)\n",
        "    params, state, opt_state, train_loss, train_acc = \\\n",
        "    train_step(params, state, opt_state, batch)\n",
        "\n",
        "    # We run evaluation during training to see the progress.\n",
        "    if REPORT_TEST_EVERY > 0 and step_num % REPORT_TEST_EVERY == 0:\n",
        "        eval_acc = evaluate(params, state)\n",
        "\n",
        "    # Save model at fixed intervals.\n",
        "    if step_num % SAVE_MODEL_EVERY == 0:\n",
        "        with open(os.path.join(exp_dir, 'params.pkl'), 'wb') as handle:\n",
        "            pickle.dump(params, handle, protocol=pickle.HIGHEST_PROTOCOL)\n",
        "\n",
        "        with open(os.path.join(exp_dir, 'state.pkl'), 'wb') as handle:\n",
        "            pickle.dump(state, handle, protocol=pickle.HIGHEST_PROTOCOL)\n",
        "\n",
        "    with summary_writer.as_default():\n",
        "        tf.summary.scalar('train_loss', train_loss, step=step_num)\n",
        "        tf.summary.scalar('train_acc', train_acc, step=step_num)\n",
        "        tf.summary.scalar('test_acc', eval_acc, step=step_num)\n",
        "\n",
        "# Once training has finished we run eval one more time to get final results.\n",
        "eval_acc = evaluate(params, state)\n",
        "print('[Eval acc FINAL]: %s' % (eval_acc))\n",
        "\n",
        "# Save last model parameters\n",
        "with open(os.path.join(exp_dir, 'params.pkl'), 'wb') as handle:\n",
        "    pickle.dump(params, handle, protocol=pickle.HIGHEST_PROTOCOL)\n",
        "\n",
        "with open(os.path.join(exp_dir, 'state.pkl'), 'wb') as handle:\n",
        "    pickle.dump(state, handle, protocol=pickle.HIGHEST_PROTOCOL)"
      ],
      "execution_count": null,
      "outputs": []
    },
    {
      "cell_type": "markdown",
      "metadata": {
        "id": "2PSKFpn358cI"
      },
      "source": [
        "## Restore the latest checkpoint and test"
      ]
    },
    {
      "cell_type": "code",
      "metadata": {
        "id": "yNRIlI-96Hcv"
      },
      "source": [
        "!ls {exp_dir}"
      ],
      "execution_count": null,
      "outputs": []
    },
    {
      "cell_type": "code",
      "metadata": {
        "id": "WQsnFyW46nN6"
      },
      "source": [
        "# restoring the latest checkpoint in exp_dir\n",
        "with open(os.path.join(exp_dir, 'params.pkl'), 'rb') as handle:\n",
        "    params = pickle.load(handle)\n",
        "\n",
        "with open(os.path.join(exp_dir, 'state.pkl'), 'rb') as handle:\n",
        "    state = pickle.load(handle)\n",
        "\n",
        "eval_acc = evaluate(params, state)\n",
        "print('[Eval acc]: %s' % (eval_acc))"
      ],
      "execution_count": null,
      "outputs": []
    }
  ]
}